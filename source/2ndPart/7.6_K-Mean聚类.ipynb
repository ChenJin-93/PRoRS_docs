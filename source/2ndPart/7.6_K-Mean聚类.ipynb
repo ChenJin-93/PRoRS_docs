{
 "cells": [
  {
   "cell_type": "markdown",
   "metadata": {},
   "source": [
    "# K-Mean聚类"
   ]
  },
  {
   "cell_type": "markdown",
   "metadata": {
    "collapsed": true
   },
   "source": [
    "## 全色影像和GroundTruth"
   ]
  },
  {
   "cell_type": "markdown",
   "metadata": {},
   "source": [
    "<img src=\"DataImage\\全色原始数据.png\" width = \"300\" height = \"340\" alt=\"全色原始数据\" align=left />\n",
    "<img src=\"DataImage\\GroundTruth.png\" width = \"350\" height = \"360\" alt=\"GroundTruth\" align=center />"
   ]
  },
  {
   "cell_type": "markdown",
   "metadata": {},
   "source": [
    "              原始全色影像                                               地物类别图（GroundTruth）"
   ]
  },
  {
   "cell_type": "markdown",
   "metadata": {},
   "source": [
    "## K-Means聚类算法简介"
   ]
  },
  {
   "cell_type": "markdown",
   "metadata": {},
   "source": [
    "K-Means算法思想简单，效果却很好，是最有名的聚类算法。聚类算法的步骤如下：\n",
    "\n",
    "1：初始化K个样本作为初始聚类中心；\n",
    "\n",
    "2：计算每个样本点到K个中心的距离，选择最近的中心作为其分类，直到所有样本点分类完毕；\n",
    "\n",
    "3：分别计算K个类中所有样本的质心，作为新的中心点，完成一轮迭代。\n",
    "\n",
    "通常的迭代结束条件为新的质心与之前的质心偏移值小于一个给定阈值。"
   ]
  },
  {
   "cell_type": "markdown",
   "metadata": {},
   "source": [
    "## python实现关键代码"
   ]
  },
  {
   "cell_type": "markdown",
   "metadata": {
    "ExecuteTime": {
     "end_time": "2017-09-08T12:58:44.167019Z",
     "start_time": "2017-09-08T12:58:35.408290Z"
    }
   },
   "source": [
    "#导入所需要的主要库\n",
    "\n",
    "import numpy as np  #数据分析处理 <br />\n",
    "import skimage.io as SKimg  #读取遥感影像   <br />\n",
    "import matplotlib.pyplot as plt  #绘图制图   <br />\n",
    "from sklearn.cluster import KMeans  #K-Means算法模块"
   ]
  },
  {
   "cell_type": "markdown",
   "metadata": {},
   "source": [
    "#读取tiff影像 <br />\n",
    "Tpan =SKimg.imread(\"F:/pythontestdata/MyTiff/tianhui1200pan.tif\")\n",
    "\n",
    "#调用K-Means算法，设置聚类的目标类别数<br />\n",
    "KMS = KMeans(n_clusters=6, random_state=0).fit(NewTpan);\n",
    "\n",
    "#每个像素值的类别号，每个类别的聚类中心<br />\n",
    "Labels=KMS.labels_; clus_centers=KMS.cluster_centers_; \n",
    "\n",
    "#绘制灰度值的频率直方图\n",
    "Kwars=dict(histtype='stepfilled',alpha=0.4,normed=True,bins=np.arange(0,255));<br />\n",
    "intervals=plt.hist(X,color=cor[S],**Kwars);"
   ]
  },
  {
   "cell_type": "markdown",
   "metadata": {},
   "source": [
    "## 聚类效果"
   ]
  },
  {
   "cell_type": "markdown",
   "metadata": {},
   "source": [
    "设置K-Means的聚类个数分别为4、5、6、7、8，得到五次聚类的结果。距离中心的个数等于聚类的类别数，对于全色影像，聚类后的类别中心,<br />\n",
    "为像素灰度值，如下的频率直方图中，灰度值呈现分段聚集，每一段代表一个聚类后的类别。随着聚类个数的增多，频率直方图的分段数也增多。"
   ]
  },
  {
   "cell_type": "markdown",
   "metadata": {},
   "source": [
    "<img src=\"K-mean_GMM\\KmeansH.jpg\" width = \"900\" height = \"300\" align=left />"
   ]
  },
  {
   "cell_type": "markdown",
   "metadata": {},
   "source": [
    "          K=4                    K=5                      K=6                    K=7                    K=8"
   ]
  },
  {
   "cell_type": "markdown",
   "metadata": {},
   "source": [
    "聚类结果比较：从下图可知，整体上分类效果较好，但随着聚类个数的增大，分出的类别数增多，同种地物内可能出现多个类别，导致误分错分。<br />\n",
    "因此有必要设置较为合理的聚类数，并进行聚类后的类别合并，以及平滑等处理。"
   ]
  },
  {
   "cell_type": "markdown",
   "metadata": {},
   "source": [
    "<img src=\"K-mean_GMM\\K-meansK45678.png\" width = \"1000\" height = \"300\" align=left />"
   ]
  },
  {
   "cell_type": "markdown",
   "metadata": {},
   "source": [
    "          K=4                    K=5                      K=6                    K=7                    K=8"
   ]
  }
 ],
 "metadata": {
  "kernelspec": {
   "display_name": "Python 3",
   "language": "python",
   "name": "python3"
  },
  "language_info": {
   "codemirror_mode": {
    "name": "ipython",
    "version": 3
   },
   "file_extension": ".py",
   "mimetype": "text/x-python",
   "name": "python",
   "nbconvert_exporter": "python",
   "pygments_lexer": "ipython3",
   "version": "3.6.1"
  },
  "toc": {
   "colors": {
    "hover_highlight": "#DAA520",
    "navigate_num": "#000000",
    "navigate_text": "#333333",
    "running_highlight": "#FF0000",
    "selected_highlight": "#FFD700",
    "sidebar_border": "#EEEEEE",
    "wrapper_background": "#FFFFFF"
   },
   "moveMenuLeft": true,
   "nav_menu": {
    "height": "12px",
    "width": "252px"
   },
   "navigate_menu": true,
   "number_sections": true,
   "sideBar": true,
   "threshold": 4,
   "toc_cell": false,
   "toc_section_display": "block",
   "toc_window_display": true,
   "widenNotebook": false
  }
 },
 "nbformat": 4,
 "nbformat_minor": 2
}
