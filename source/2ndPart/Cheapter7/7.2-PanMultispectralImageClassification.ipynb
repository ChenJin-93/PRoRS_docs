{
 "cells": [
  {
   "cell_type": "markdown",
   "metadata": {},
   "source": [
    "## 全色和多光谱影像分类"
   ]
  },
  {
   "cell_type": "markdown",
   "metadata": {},
   "source": [
    "### 全色单波段影像分类"
   ]
  },
  {
   "cell_type": "markdown",
   "metadata": {},
   "source": [
    "![](TheSencondOfSeven/ALLFrequencyHistogramOfPanchromaticSixClassObjects.png)\n",
    "  频率直方图（类条件概率）"
   ]
  },
  {
   "cell_type": "markdown",
   "metadata": {},
   "source": [
    "![](TheSencondOfSeven/PanClassificationEffect.png)\n",
    "全色影像分类效果 "
   ]
  },
  {
   "cell_type": "markdown",
   "metadata": {},
   "source": [
    "将分类结果和GroundTruth进行比较，当类别相同时（表示分类正确），像元值赋为1，当类别不同时（表示分类错误），像元值赋为0，<br />\n",
    "得到分类精度效果图，即图中白色区域为分类正确，黑色区域表示分类错误（见 全色影像分类精度二值图像）。"
   ]
  },
  {
   "cell_type": "markdown",
   "metadata": {},
   "source": [
    "![](DataImage\\GroundTruth.png)\n",
    " GroundTruth地物类型图 "
   ]
  },
  {
   "cell_type": "markdown",
   "metadata": {},
   "source": [
    "![](TheSencondOfSeven/PanClassificationAccuracy.png)\n",
    " 全色影像分类精度二值图像"
   ]
  },
  {
   "cell_type": "markdown",
   "metadata": {},
   "source": [
    "分析上图可知，对全色影像进行分类的效果较差，只有较大面积的纯净地物才能较好的分离出，在地物边界和破碎的类别处，无法进行有效的区分，<br />\n",
    "且存在较为严重的椒盐噪声。"
   ]
  },
  {
   "cell_type": "markdown",
   "metadata": {},
   "source": [
    "### 多光谱四波段影像分类"
   ]
  },
  {
   "cell_type": "markdown",
   "metadata": {},
   "source": [
    "![](TheSencondOfSeven/Multispectral4ClassificationEffect.png)\n",
    "多光谱影像分类效果"
   ]
  },
  {
   "cell_type": "markdown",
   "metadata": {},
   "source": [
    "![](TheSencondOfSeven/Multispectral4ClassificationAccuracy.png)\n",
    " 多光谱影像分类精度二值图像"
   ]
  },
  {
   "cell_type": "markdown",
   "metadata": {},
   "source": [
    "分析上面两图可知，对多光谱影像进行分类的效果较好，只有在地类边界处，才会出现一些误分像元，在地物内部，区分效果特别好。"
   ]
  },
  {
   "cell_type": "markdown",
   "metadata": {},
   "source": [
    "### 分类精度比较"
   ]
  },
  {
   "cell_type": "markdown",
   "metadata": {
    "ExecuteTime": {
     "end_time": "2017-09-08T05:41:00.149711Z",
     "start_time": "2017-09-08T05:41:00.128693Z"
    }
   },
   "source": [
    "![](TheSencondOfSeven/ClassificationAccuracyComparison.JPG)\n"
   ]
  },
  {
   "cell_type": "markdown",
   "metadata": {},
   "source": [
    "对全色影像和多光谱影像的分类精度进行比较，可知：多光谱影像的正确分类像元数（1212451）远高于全色影像的（586987），<br />\n",
    "多光谱影像的分类精度高达84.20%，而全色影像的分类精度只有40.76%。"
   ]
  },
  {
   "cell_type": "markdown",
   "metadata": {},
   "source": [
    "原因分析：全色影像只有一个波段，而多光谱影像具有四个波段，对于每个像元来说，从一个特征（波段）升高到四个特征（波段），<br />\n",
    "&emsp;&emsp;即是光谱上的升维，在计算类条件概率时，从一维空间升高的四维空间，同时多光谱影像的每个波段对不同地物的频率直方图<br />\n",
    "&emsp;&emsp;响应情况都不同,进而导致多光谱影像的分类精度要远高于全色影像的精度。"
   ]
  },
  {
   "cell_type": "markdown",
   "metadata": {},
   "source": [
    "下一节将针对全色影像，考虑像元邻近性关系，即从空间升维的角度，来对全色影像进行分类，并比较不同邻域情况下分类结果的差异。"
   ]
  }
 ],
 "metadata": {
  "kernelspec": {
   "display_name": "Python 3",
   "language": "python",
   "name": "python3"
  },
  "language_info": {
   "codemirror_mode": {
    "name": "ipython",
    "version": 3
   },
   "file_extension": ".py",
   "mimetype": "text/x-python",
   "name": "python",
   "nbconvert_exporter": "python",
   "pygments_lexer": "ipython3",
   "version": "3.6.1"
  },
  "toc": {
   "colors": {
    "hover_highlight": "#DAA520",
    "navigate_num": "#000000",
    "navigate_text": "#333333",
    "running_highlight": "#FF0000",
    "selected_highlight": "#FFD700",
    "sidebar_border": "#EEEEEE",
    "wrapper_background": "#FFFFFF"
   },
   "moveMenuLeft": true,
   "nav_menu": {
    "height": "66px",
    "width": "252px"
   },
   "navigate_menu": true,
   "number_sections": true,
   "sideBar": true,
   "threshold": 4,
   "toc_cell": false,
   "toc_section_display": "block",
   "toc_window_display": true,
   "widenNotebook": false
  }
 },
 "nbformat": 4,
 "nbformat_minor": 2
}
