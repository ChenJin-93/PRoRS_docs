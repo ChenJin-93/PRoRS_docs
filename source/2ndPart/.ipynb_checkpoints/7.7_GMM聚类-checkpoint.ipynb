{
 "cells": [
  {
   "cell_type": "markdown",
   "metadata": {},
   "source": [
    "# GMM聚类"
   ]
  },
  {
   "cell_type": "markdown",
   "metadata": {
    "collapsed": true
   },
   "source": [
    "## 全色影像和GroundTruth"
   ]
  },
  {
   "cell_type": "markdown",
   "metadata": {
    "collapsed": true
   },
   "source": [
    "<img src=\"DataImage\\全色原始数据.png\" width = \"300\" height = \"340\" alt=\"全色原始数据\" align=left />\n",
    "<img src=\"DataImage\\GroundTruth.png\" width = \"350\" height = \"360\" alt=\"GroundTruth\" align=center />"
   ]
  },
  {
   "cell_type": "markdown",
   "metadata": {
    "collapsed": true
   },
   "source": [
    "              原始全色影像                                               地物类别图（GroundTruth）"
   ]
  },
  {
   "cell_type": "markdown",
   "metadata": {},
   "source": [
    "## GMM聚类算法原理"
   ]
  },
  {
   "cell_type": "markdown",
   "metadata": {
    "collapsed": true
   },
   "source": [
    "混合高斯模型（Gaussian Mixture Model，简称GMM）是用高斯概率密度函数（正态分布曲线）精确地量化事物，<br />\n",
    "将一个事物分解为若干的基于高斯概率密度函数（正态分布曲线）形成的模型。"
   ]
  },
  {
   "cell_type": "markdown",
   "metadata": {
    "collapsed": true
   },
   "source": [
    "<img src=\"K-mean_GMM\\Gaosi.JPG\" width = \"650\" height = \"340\" align=left />\n",
    "<img src=\"K-mean_GMM\\Gaosi2.JPG\" width = \"650\" height = \"360\" align=left />\n",
    "<img src=\"K-mean_GMM\\Gaosi3.JPG\" width = \"650\" height = \"360\" align=left />"
   ]
  },
  {
   "cell_type": "markdown",
   "metadata": {},
   "source": [
    "## python实现关键代码"
   ]
  },
  {
   "cell_type": "markdown",
   "metadata": {
    "collapsed": true
   },
   "source": [
    "#导入所需要的主要库\n",
    "\n",
    "import numpy as np  #数据分析处理 <br />\n",
    "import skimage.io as SKimg  #读取遥感影像   <br />\n",
    "import matplotlib.pyplot as plt  #绘图制图   <br />\n",
    "from sklearn import mixture  #高斯模型"
   ]
  },
  {
   "cell_type": "markdown",
   "metadata": {
    "collapsed": true
   },
   "source": [
    "#读取tiff影像 <br />\n",
    "Tpan =SKimg.imread(\"F:/pythontestdata/MyTiff/tianhui1200pan.tif\")\n",
    "\n",
    "#调用GMM算法，设置聚类的目标类别数<br />\n",
    "GMMmy = mixture.GaussianMixture(n_components=6,covariance_type='full').fit(NewTpan);\n",
    "\n",
    "#每个像素值的类别号，每个类别的聚类中心<br />\n",
    "Labels=GMMmy.predict(NewTpan);  Clus_Centers=GMMmy.means_;\n",
    "\n",
    "#绘制灰度值的频率直方图\n",
    "Kwars=dict(histtype='stepfilled',alpha=0.4,normed=True,bins=np.arange(0,255));<br />\n",
    "intervals=plt.hist(X,color=cor[S],**Kwars);"
   ]
  },
  {
   "cell_type": "markdown",
   "metadata": {},
   "source": [
    "## 聚类效果"
   ]
  },
  {
   "cell_type": "markdown",
   "metadata": {
    "collapsed": true
   },
   "source": [
    "设置K-Means的聚类个数分别为4、5、6、7、8，得到五次聚类的结果。距离中心的个数等于聚类的类别数，对于全色影像，聚类后的类别中心,<br />\n",
    "为像素灰度值，如下的频率直方图中，灰度值呈现分段聚集，每一段代表一个聚类后的类别。随着聚类个数的增多，频率直方图的分段数也增多。"
   ]
  },
  {
   "cell_type": "markdown",
   "metadata": {},
   "source": [
    "<img src=\"K-mean_GMM\\GMMH.jpg\" width = \"900\" height = \"300\" align=left />"
   ]
  },
  {
   "cell_type": "markdown",
   "metadata": {},
   "source": [
    "          K=4                    K=5                      K=6                    K=7                    K=8"
   ]
  },
  {
   "cell_type": "markdown",
   "metadata": {},
   "source": [
    "GMM聚类的效果与K-Means的效果相似，也是整体上分类效果较好，但随着聚类个数的增大，分出的类别数增多，同种地物内可能出现多个类别，导致误分错分。"
   ]
  },
  {
   "cell_type": "markdown",
   "metadata": {},
   "source": [
    "<img src=\"K-mean_GMM\\GMMK45678.png\" width = \"1000\" height = \"300\" align=left />"
   ]
  },
  {
   "cell_type": "markdown",
   "metadata": {},
   "source": [
    "          K=4                    K=5                      K=6                    K=7                    K=8"
   ]
  }
 ],
 "metadata": {
  "kernelspec": {
   "display_name": "Python 3",
   "language": "python",
   "name": "python3"
  },
  "language_info": {
   "codemirror_mode": {
    "name": "ipython",
    "version": 3
   },
   "file_extension": ".py",
   "mimetype": "text/x-python",
   "name": "python",
   "nbconvert_exporter": "python",
   "pygments_lexer": "ipython3",
   "version": "3.6.1"
  },
  "toc": {
   "colors": {
    "hover_highlight": "#DAA520",
    "navigate_num": "#000000",
    "navigate_text": "#333333",
    "running_highlight": "#FF0000",
    "selected_highlight": "#FFD700",
    "sidebar_border": "#EEEEEE",
    "wrapper_background": "#FFFFFF"
   },
   "moveMenuLeft": true,
   "nav_menu": {
    "height": "12px",
    "width": "252px"
   },
   "navigate_menu": true,
   "number_sections": true,
   "sideBar": true,
   "threshold": 4,
   "toc_cell": false,
   "toc_section_display": "block",
   "toc_window_display": true,
   "widenNotebook": false
  }
 },
 "nbformat": 4,
 "nbformat_minor": 2
}
