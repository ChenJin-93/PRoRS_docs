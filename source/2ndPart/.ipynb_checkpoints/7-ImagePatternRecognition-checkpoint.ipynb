{
 "cells": [
  {
   "cell_type": "markdown",
   "metadata": {},
   "source": [
    "# 遥感图像模式识别（贝叶斯分类）"
   ]
  },
  {
   "cell_type": "markdown",
   "metadata": {},
   "source": [
    "## 影像数据和贝叶斯分类器介绍\n"
   ]
  },
  {
   "cell_type": "markdown",
   "metadata": {},
   "source": [
    "### 全色影像数据"
   ]
  },
  {
   "cell_type": "markdown",
   "metadata": {},
   "source": [
    "全色灰度单波段影像，像元总数为 1200 X 1200， 像元灰度值范围为 0至255。 "
   ]
  },
  {
   "cell_type": "markdown",
   "metadata": {},
   "source": [
    "![](DataImage/PanDatasource.png)"
   ]
  },
  {
   "cell_type": "markdown",
   "metadata": {},
   "source": [
    "### 多光谱影像数据"
   ]
  },
  {
   "cell_type": "markdown",
   "metadata": {},
   "source": [
    "多光谱影像，4个波段：蓝、绿、红、近红波段。每个波段的像元总数为 1200 X 1200， 像元灰度值范围为  0至255。"
   ]
  },
  {
   "cell_type": "markdown",
   "metadata": {},
   "source": [
    "![](DataImage/MultyBandData.png)"
   ]
  },
  {
   "cell_type": "markdown",
   "metadata": {},
   "source": [
    "### 真实地物类别数据——GroundTruth\n"
   ]
  },
  {
   "cell_type": "markdown",
   "metadata": {},
   "source": [
    "GroudTruth为地表真实类别，数据格式为1200X1200的矩阵，矩阵中每个数据代表影像对应栅格处的类别编号，编号取值范围为1，2，3，4，5，6 <br />\n",
    "六个编号代表六种地物类型，编号1代表：水体（water），2代表草地（grass），3代表建筑物（building），4代表道路（roda），<br />\n",
    "5代表裸地（BareLand），6代表：背景（background）。"
   ]
  },
  {
   "cell_type": "markdown",
   "metadata": {},
   "source": [
    "![](DataImage/GroundTruth.png)"
   ]
  },
  {
   "cell_type": "markdown",
   "metadata": {
    "ExecuteTime": {
     "end_time": "2017-09-08T00:34:14.795313Z",
     "start_time": "2017-09-08T00:34:14.787309Z"
    }
   },
   "source": [
    "### 朴素贝叶斯分类器（Naive Bayes）"
   ]
  },
  {
   "cell_type": "markdown",
   "metadata": {},
   "source": [
    "![](DataImage/NaiveBayes.JPG)"
   ]
  },
  {
   "cell_type": "markdown",
   "metadata": {},
   "source": [
    "基于贝叶斯推理，当先验概率已知的时候，类后验概率与类的条件概率成正比例关系，因此可以用类的条件概率反映后验概率，从而进行类别的判断。<br />\n",
    "\n",
    "对于已有的全色单波段影像和多光谱四波段影像数据，结合GroundTruth数据，可以基于朴素贝叶器对影像进行分类，主要步骤如下：<br />\n",
    "&emsp;a.根据GroundTruth统计每种地物对应的像素灰度频率直方图，每个灰度值在每个地物类型内都有一个类条件概率，即每个灰度值对应六个类条件概率。<br />\n",
    "&emsp;b.比较每个灰度值处对应的六个类条件概率，找出最大的类条件概率所对应的类别编号，作为改灰度值处的类别号。<br />\n",
    "&emsp;c.根据灰度值所对应的类别号，返回到原始影像上，每个栅格像元上便有一个类别编号,得到分类效果图。<br />\n",
    "&emsp;d.将分类结果和GroundTruth进行比较，统计分类正确和错误的像元数，得出分类精度。\n"
   ]
  },
  {
   "cell_type": "markdown",
   "metadata": {},
   "source": [
    "下一小节，将利用朴素贝叶斯分类器的方法，对全色单波段影像和多光谱四波段影像进行分类，并比较分类后效果。"
   ]
  },
  {
   "cell_type": "markdown",
   "metadata": {},
   "source": [
    "## 全色和多光谱影像分类"
   ]
  },
  {
   "cell_type": "markdown",
   "metadata": {},
   "source": [
    "### 全色单波段影像分类"
   ]
  },
  {
   "cell_type": "markdown",
   "metadata": {},
   "source": [
    "![](TheSencondOfSeven/ALLFrequencyHistogramOfPanchromaticSixClassObjects.png)"
   ]
  },
  {
   "cell_type": "markdown",
   "metadata": {},
   "source": [
    "频率直方图（类条件概率）"
   ]
  },
  {
   "cell_type": "markdown",
   "metadata": {},
   "source": [
    "![](TheSencondOfSeven/PanClassificationEffect.png) "
   ]
  },
  {
   "cell_type": "markdown",
   "metadata": {},
   "source": [
    "全色影像分类效果"
   ]
  },
  {
   "cell_type": "markdown",
   "metadata": {},
   "source": [
    "将分类结果和GroundTruth进行比较，当类别相同时（表示分类正确），像元值赋为1，当类别不同时（表示分类错误），像元值赋为0，<br />\n",
    "得到分类精度效果图，即图中白色区域为分类正确，黑色区域表示分类错误（见 全色影像分类精度二值图像）。"
   ]
  },
  {
   "cell_type": "markdown",
   "metadata": {},
   "source": [
    "![](DataImage\\GroundTruth.png)"
   ]
  },
  {
   "cell_type": "markdown",
   "metadata": {},
   "source": [
    " GroundTruth地物类型图 "
   ]
  },
  {
   "cell_type": "markdown",
   "metadata": {},
   "source": [
    "![](TheSencondOfSeven/PanClassificationAccuracy.png)"
   ]
  },
  {
   "cell_type": "markdown",
   "metadata": {},
   "source": [
    " 全色影像分类精度二值图像"
   ]
  },
  {
   "cell_type": "markdown",
   "metadata": {},
   "source": [
    "分析上图可知，对全色影像进行分类的效果较差，只有较大面积的纯净地物才能较好的分离出，在地物边界和破碎的类别处，无法进行有效的区分，<br />\n",
    "且存在较为严重的椒盐噪声。"
   ]
  },
  {
   "cell_type": "markdown",
   "metadata": {},
   "source": [
    "### 多光谱四波段影像分类"
   ]
  },
  {
   "cell_type": "markdown",
   "metadata": {},
   "source": [
    "![](TheSencondOfSeven/Multispectral4ClassificationEffect.png)"
   ]
  },
  {
   "cell_type": "markdown",
   "metadata": {},
   "source": [
    "多光谱影像分类效果"
   ]
  },
  {
   "cell_type": "markdown",
   "metadata": {},
   "source": [
    "![](TheSencondOfSeven/Multispectral4ClassificationAccuracy.png)"
   ]
  },
  {
   "cell_type": "markdown",
   "metadata": {},
   "source": [
    " 多光谱影像分类精度二值图像"
   ]
  },
  {
   "cell_type": "markdown",
   "metadata": {},
   "source": [
    "分析上面两图可知，对多光谱影像进行分类的效果较好，只有在地类边界处，才会出现一些误分像元，在地物内部，区分效果特别好。"
   ]
  },
  {
   "cell_type": "markdown",
   "metadata": {},
   "source": [
    "### 分类精度比较"
   ]
  },
  {
   "cell_type": "markdown",
   "metadata": {},
   "source": [
    "![](TheSencondOfSeven/ClassificationAccuracyComparison.JPG)"
   ]
  },
  {
   "cell_type": "markdown",
   "metadata": {},
   "source": [
    "对全色影像和多光谱影像的分类精度进行比较，可知：多光谱影像的正确分类像元数（1212451）远高于全色影像的（586987），<br />\n",
    "多光谱影像的分类精度高达84.20%，而全色影像的分类精度只有40.76%。"
   ]
  },
  {
   "cell_type": "markdown",
   "metadata": {},
   "source": [
    "原因分析：全色影像只有一个波段，而多光谱影像具有四个波段，对于每个像元来说，从一个特征（波段）升高到四个特征（波段），<br />\n",
    "&emsp;&emsp;即是光谱上的升维，在计算类条件概率时，从一维空间升高的四维空间，同时多光谱影像的每个波段对不同地物的频率直方图<br />\n",
    "&emsp;&emsp;响应情况都不同,进而导致多光谱影像的分类精度要远高于全色影像的精度。"
   ]
  },
  {
   "cell_type": "markdown",
   "metadata": {},
   "source": [
    "下一节将针对全色影像，考虑像元邻近性关系，即从空间升维的角度，来对全色影像进行分类，并比较不同邻域情况下分类结果的差异。"
   ]
  },
  {
   "cell_type": "markdown",
   "metadata": {},
   "source": [
    "## 全色影像空间邻域升维后分类"
   ]
  },
  {
   "cell_type": "markdown",
   "metadata": {},
   "source": [
    "### 全色影像和GroundTruth"
   ]
  },
  {
   "cell_type": "markdown",
   "metadata": {},
   "source": [
    "![](DataImage/PanDatasource.png)"
   ]
  },
  {
   "cell_type": "markdown",
   "metadata": {},
   "source": [
    "原始全色影像"
   ]
  },
  {
   "cell_type": "markdown",
   "metadata": {},
   "source": [
    "![](DataImage/GroundTruth.png)"
   ]
  },
  {
   "cell_type": "markdown",
   "metadata": {},
   "source": [
    "地物类别图（GroundTruth）"
   ]
  },
  {
   "cell_type": "markdown",
   "metadata": {},
   "source": [
    "### 二邻域空间升维"
   ]
  },
  {
   "cell_type": "markdown",
   "metadata": {},
   "source": [
    "对于全色影像，先考虑最简单的空间升维，即对于每个像元，取其右边的像元组成一个新的波段，这样每个像元上就对应两个灰度值。<br />\n",
    "再利用贝叶斯分类的方法对影像进行分类。"
   ]
  },
  {
   "cell_type": "markdown",
   "metadata": {},
   "source": [
    "![](TheThridOfSeven/TwoEffect.png) "
   ]
  },
  {
   "cell_type": "markdown",
   "metadata": {},
   "source": [
    "全色-二邻域分类效果"
   ]
  },
  {
   "cell_type": "markdown",
   "metadata": {},
   "source": [
    "![](TheThridOfSeven/TwoAccuracy.png)"
   ]
  },
  {
   "cell_type": "markdown",
   "metadata": {},
   "source": [
    " 全色-二邻域分类精度二值图"
   ]
  },
  {
   "cell_type": "markdown",
   "metadata": {},
   "source": [
    "### 三邻域空间升维"
   ]
  },
  {
   "cell_type": "markdown",
   "metadata": {},
   "source": [
    "考虑三邻域的空间升维，即对于每个像元，取它的左边、右边像元和它自己，即每个像元上对应三个灰度值。再利用贝叶斯分类的方法对影像进行分类。"
   ]
  },
  {
   "cell_type": "markdown",
   "metadata": {},
   "source": [
    "![](TheThridOfSeven/ThreeEffect.png)"
   ]
  },
  {
   "cell_type": "markdown",
   "metadata": {},
   "source": [
    " 全色-三邻域分类效果"
   ]
  },
  {
   "cell_type": "markdown",
   "metadata": {},
   "source": [
    "![](TheThridOfSeven/ThreeAccuracy.png)"
   ]
  },
  {
   "cell_type": "markdown",
   "metadata": {},
   "source": [
    " 全色-三邻域分类精度二值图"
   ]
  },
  {
   "cell_type": "markdown",
   "metadata": {},
   "source": [
    "### 五邻域空间升维"
   ]
  },
  {
   "cell_type": "markdown",
   "metadata": {},
   "source": [
    "考虑五邻域的空间升维，即对于每个像元，取它的上、下、左、右和它自己，即每个像元上对应五个灰度值。再利用贝叶斯分类的方法对影像进行分类。"
   ]
  },
  {
   "cell_type": "markdown",
   "metadata": {},
   "source": [
    "![](TheThridOfSeven/FiveEffect.png)"
   ]
  },
  {
   "cell_type": "markdown",
   "metadata": {},
   "source": [
    "全色-五邻域分类效果"
   ]
  },
  {
   "cell_type": "markdown",
   "metadata": {},
   "source": [
    "![](TheThridOfSeven/FiveAccuracy.png)"
   ]
  },
  {
   "cell_type": "markdown",
   "metadata": {},
   "source": [
    "全色-五邻域分类精度二值图"
   ]
  },
  {
   "cell_type": "markdown",
   "metadata": {},
   "source": [
    "### 九邻域空间升维"
   ]
  },
  {
   "cell_type": "markdown",
   "metadata": {},
   "source": [
    "考虑九邻域的空间升维，即对于每个像元，取它的上、下、左、右、左上、右上、左下、右下和它自己，即每个像元上对应九个灰度值。<br />\n",
    "再利用贝叶斯分类的方法对影像进行分类。"
   ]
  },
  {
   "cell_type": "markdown",
   "metadata": {},
   "source": [
    "![](TheThridOfSeven/NineEffect.png)"
   ]
  },
  {
   "cell_type": "markdown",
   "metadata": {},
   "source": [
    "全色-九邻域分类效果"
   ]
  },
  {
   "cell_type": "markdown",
   "metadata": {},
   "source": [
    "![](TheThridOfSeven/NineAccuracy.png)"
   ]
  },
  {
   "cell_type": "markdown",
   "metadata": {},
   "source": [
    "全色-九邻域分类精度二值图"
   ]
  },
  {
   "cell_type": "markdown",
   "metadata": {},
   "source": [
    "### 分类精度比较"
   ]
  },
  {
   "cell_type": "markdown",
   "metadata": {},
   "source": [
    "![](TheThridOfSeven/SpaceAccuracyComparison.JPG)"
   ]
  },
  {
   "cell_type": "markdown",
   "metadata": {},
   "source": [
    "从上文的分类精度图和分类精度比较表可知，对于空间升维，考虑的空间邻域范围较大的时候，分类精度较高。全色单波段影像分类精度为40.76%，<br />\n",
    "二邻域空间升维分类精度为45.78%，三邻域分类精度为48.61%，五邻域分类精度为68.90%，九邻域分类精度为85.82%。总体上看，分类精度大概<br />\n",
    "从40%增加到85%，地物内部区分效果一直较好，在地类边界处，随着空间邻域的范围扩大，分类效果越来越好。"
   ]
  },
  {
   "cell_type": "markdown",
   "metadata": {},
   "source": [
    "## 类先验概率约束下的全色影像分类"
   ]
  },
  {
   "cell_type": "markdown",
   "metadata": {},
   "source": [
    "### 考虑类先验概率"
   ]
  },
  {
   "cell_type": "markdown",
   "metadata": {},
   "source": [
    "7.2和7.3小节中的分类，都是假设每种地物类别的先验概率相同，因此类条件概率的大小关系就等同于后验概率的大小关系。\n",
    "\n",
    "&emsp;而在本节中，每种地物类别的先验概率不相同，对于GroundTruth数据，考虑每个像元的上、下、左、右、左上、右上、左下和右下，<br />\n",
    "这八个像元(相当于3 X 3的窗口内)，统计每个类别的频率。 每个像元就会对应六个类的先验概率，在用朴素贝叶斯进行分类决策时，<br />\n",
    "每个像元上的类条件概率乘以类的先验概率，即为类的后验概率，找出每个像元上的类后验概率最大值所对应的类别编号，进而实现了分类。"
   ]
  },
  {
   "cell_type": "markdown",
   "metadata": {},
   "source": [
    "### 全色影像和GroundTruth"
   ]
  },
  {
   "cell_type": "markdown",
   "metadata": {},
   "source": [
    "![](DataImage/PanDatasource.png) "
   ]
  },
  {
   "cell_type": "markdown",
   "metadata": {},
   "source": [
    "原始全色影像"
   ]
  },
  {
   "cell_type": "markdown",
   "metadata": {},
   "source": [
    "![](DataImage\\GroundTruth.png)"
   ]
  },
  {
   "cell_type": "markdown",
   "metadata": {},
   "source": [
    "地物类别图（GroundTruth）"
   ]
  },
  {
   "cell_type": "markdown",
   "metadata": {},
   "source": [
    "### 分类效果和精度"
   ]
  },
  {
   "cell_type": "markdown",
   "metadata": {},
   "source": [
    "将分类结果和GroundTruth进行比较，当类别相同时（表示分类正确），像元值赋为1，当类别不同时（表示分类错误），像元值赋为0，<br />\n",
    "得到分类精度效果图，即图中白色区域为分类正确，黑色区域表示分类错误。"
   ]
  },
  {
   "cell_type": "markdown",
   "metadata": {},
   "source": [
    "![](TheThridOfSeven\\EightEffect.png)"
   ]
  },
  {
   "cell_type": "markdown",
   "metadata": {},
   "source": [
    "考虑类的先验概率-分类效果图"
   ]
  },
  {
   "cell_type": "markdown",
   "metadata": {},
   "source": [
    "![](TheThridOfSeven\\EightAccuracy.png)"
   ]
  },
  {
   "cell_type": "markdown",
   "metadata": {},
   "source": [
    "分类精度——二值图"
   ]
  },
  {
   "cell_type": "markdown",
   "metadata": {},
   "source": [
    "从上图可知：分类效果较好，分类精度很高，基本上和GroundTruth相一致，经统计得到分类正确的像元数为1395441，占总像元数的比例为96.91%,<br />\n",
    "（即为分类精度），仅在地物特别破碎的地类边界上，区分效果较差。"
   ]
  },
  {
   "cell_type": "markdown",
   "metadata": {},
   "source": [
    "## SLIC算法分割图像"
   ]
  },
  {
   "cell_type": "markdown",
   "metadata": {},
   "source": [
    "### 需要的python模块"
   ]
  },
  {
   "cell_type": "code",
   "execution_count": 1,
   "metadata": {
    "ExecuteTime": {
     "end_time": "2017-09-11T13:40:58.887215Z",
     "start_time": "2017-09-11T13:40:57.815500Z"
    },
    "collapsed": true
   },
   "outputs": [],
   "source": [
    "from skimage.segmentation import slic    #SCLI算法包\n",
    "from skimage.segmentation import mark_boundaries  #根据SLIC分割结果生成边界\n",
    "from skimage.util import img_as_float    #读取影像数据为float型\n",
    "from skimage import io,color      #颜色库\n",
    "import matplotlib.pyplot as plt   #绘图制图\n",
    "import argparse\n",
    "import skimage.io as SKimg   #读取多种栅格图"
   ]
  },
  {
   "cell_type": "markdown",
   "metadata": {},
   "source": [
    "### SLIC算法原理"
   ]
  },
  {
   "cell_type": "markdown",
   "metadata": {},
   "source": [
    "整个算法的输入只有一个，即超像素的个数K。\n",
    "\n",
    "图片原有N个像素，要分割成K个像素，那么每个像素的大小是N/K。超像素之间的距离（即规则情况下超像素的边长）就是S=sqrt(N/K)。\n",
    "\n",
    "我们的目标是使代价函数（cost function）最小。具体到本算法中，就是每个像素到所属的中心点的距离之和最小。\n",
    "\n",
    "首先，将K个超像素种子（也叫做聚类，即超像素的中心），均匀撒到图像的像素点上。\n",
    "\n",
    "一次迭代的第一步，对每个超像素的中心，2S范围内的所有像素点，判断他们是否属于这个超像素。这样之后，就缩短了像素点到超像素中心的距离。\n",
    "\n",
    "一次迭代的第二步，对每个超像素，将它的超像素中心移动到这个超像素的中点上。这样也缩短了像素点到超像素中心的距离。\n",
    "\n",
    "一般来说，迭代10是聚类效果和计算成本折中的次数。"
   ]
  },
  {
   "cell_type": "markdown",
   "metadata": {},
   "source": [
    "### SLIC具体实现步骤"
   ]
  },
  {
   "cell_type": "markdown",
   "metadata": {},
   "source": [
    "1.初始化种子点（聚类中心）：按照设定的超像素个数，在图像内均匀的分配种子点。假设图片总共有 N 个像素点，<br />\n",
    "预分割为 K 个相同尺寸的超像素，那么每个超像素的大小为N/ K ，则相邻种子点的距离（步长）近似为S=sqrt(N/K)。"
   ]
  },
  {
   "cell_type": "markdown",
   "metadata": {},
   "source": [
    "2.在种子点的n*n邻域内重新选择种子点（一般取n=3）。具体方法为：计算该邻域内所有像素点的梯度值，将种子点移到 <br />\n",
    "该邻域内梯度最小的地方。这样做的目的是为了避免种子点落在梯度较大的轮廓边界上，以免影响后续聚类效果。"
   ]
  },
  {
   "cell_type": "markdown",
   "metadata": {},
   "source": [
    "3.在每个种子点周围的邻域内为每个像素点分配类标签（即属于哪个聚类中心）。和标准的k-means在整张图中搜索不同，<br />\n",
    "SLIC的搜索范围限制为2S x 2S，可以加速算法收敛，如下图。在此注意一点：期望的超像素尺寸为S x S，但是搜索的范围是2S x 2S。"
   ]
  },
  {
   "cell_type": "markdown",
   "metadata": {},
   "source": [
    "![](SLIC/Searchrange.JPG)"
   ]
  },
  {
   "cell_type": "markdown",
   "metadata": {},
   "source": [
    "4.距离度量。包括颜色距离和空间距离。对于每个搜索到的像素点，分别计算它和该种子点的距离。距离计算方法如下："
   ]
  },
  {
   "cell_type": "markdown",
   "metadata": {},
   "source": [
    "![](SLIC/DistanceMeasure.JPG)"
   ]
  },
  {
   "cell_type": "markdown",
   "metadata": {},
   "source": [
    "其中，dc代表颜色距离，ds代表空间距离，Ns是类内最大空间距离，定义为Ns=S=sqrt(N/K)，适用于每个聚类。<br />\n",
    "最大的颜色距离Nc既随图片不同而不同，也随聚类不同而不同，所以我们取一个固定常数m（取值范围[1,40],一般取10）代替。<br />\n",
    "最终的距离度量D'如下："
   ]
  },
  {
   "cell_type": "markdown",
   "metadata": {},
   "source": [
    "![](SLIC/FinalDistanceMetric.JPG)"
   ]
  },
  {
   "cell_type": "markdown",
   "metadata": {},
   "source": [
    "由于每个像素点都会被多个种子点搜索到，所以每个像素点都会有一个与周围种子点的距离，取最小值对应的种子点作为该像素点的聚类中心。"
   ]
  },
  {
   "cell_type": "markdown",
   "metadata": {},
   "source": [
    "5.迭代优化。理论上上述步骤不断迭代直到误差收敛（可以理解为每个像素点聚类中心不再发生变化为止），实践发现10次迭代对绝大部分<br />\n",
    "图片都可以得到较理想效果，所以一般迭代次数取10。"
   ]
  },
  {
   "cell_type": "markdown",
   "metadata": {},
   "source": [
    "6.增强连通性。经过上述迭代优化可能出现以下瑕疵：出现多连通情况、超像素尺寸过小，单个超像素被切割成多个不连续超像素等，<br />\n",
    "这些情况可以通过增强连通性解决。主要思路是：新建一张标记表，表内元素均为-1，按照“Z”型走向（从左到右，从上到下顺序）<br />\n",
    "将不连续的超像素、尺寸过小超像素重新分配给邻近的超像素，遍历过的像素点分配给相应的标签，直到所有点遍历完毕为止。"
   ]
  },
  {
   "cell_type": "markdown",
   "metadata": {},
   "source": [
    "### python关键代码"
   ]
  },
  {
   "cell_type": "markdown",
   "metadata": {},
   "source": [
    "Tpan =SKimg.imread(\"F:/pythontestdata/MyTiff/tianhui1200pan.tif\");     读取全色影像数据（格式为TIFF）<br />\n",
    "\n",
    "TpanRGB=img_as_float(color.gray2rgb(Tpan));      将灰度图像转为RGB图像"
   ]
  },
  {
   "cell_type": "markdown",
   "metadata": {},
   "source": [
    "segments = slic(TpanRGB, n_segments =100, sigma = 5)；    设置分割数量为100\n",
    "\n",
    "plt.imshow(mark_boundaries(TpanRGB, segments,color=(1, 1, 0), mode='outer', background_label=0));    显示分割后的边界线条\n",
    "\n",
    "plt.savefig('name',dpi=2000);  分割效果保存出去"
   ]
  },
  {
   "cell_type": "markdown",
   "metadata": {},
   "source": [
    "### 分割效果展示"
   ]
  },
  {
   "cell_type": "markdown",
   "metadata": {},
   "source": [
    "分别设置分割体的数量为 100，200，500，1000，比较分割效果的差异。"
   ]
  },
  {
   "cell_type": "markdown",
   "metadata": {},
   "source": [
    "![](SLIC/SLIC.png)"
   ]
  },
  {
   "cell_type": "markdown",
   "metadata": {},
   "source": [
    "从上图可以看出，分割体数量越大，对图像分割得越细致，同类地物分割得也就越破碎。在实际运用，可根据不同的需求，设置不同的分割体数量，<br />\n",
    "从而达到比较理想的分割效果。"
   ]
  }
 ],
 "metadata": {
  "kernelspec": {
   "display_name": "Python 3",
   "language": "python",
   "name": "python3"
  },
  "language_info": {
   "codemirror_mode": {
    "name": "ipython",
    "version": 3
   },
   "file_extension": ".py",
   "mimetype": "text/x-python",
   "name": "python",
   "nbconvert_exporter": "python",
   "pygments_lexer": "ipython3",
   "version": "3.6.1"
  },
  "toc": {
   "colors": {
    "hover_highlight": "#DAA520",
    "navigate_num": "#000000",
    "navigate_text": "#333333",
    "running_highlight": "#FF0000",
    "selected_highlight": "#FFD700",
    "sidebar_border": "#EEEEEE",
    "wrapper_background": "#FFFFFF"
   },
   "moveMenuLeft": true,
   "nav_menu": {
    "height": "30px",
    "width": "252px"
   },
   "navigate_menu": true,
   "number_sections": true,
   "sideBar": true,
   "threshold": 4,
   "toc_cell": false,
   "toc_position": {
    "height": "532px",
    "left": "0px",
    "right": "1108px",
    "top": "106px",
    "width": "252px"
   },
   "toc_section_display": "block",
   "toc_window_display": true,
   "widenNotebook": false
  }
 },
 "nbformat": 4,
 "nbformat_minor": 2
}
