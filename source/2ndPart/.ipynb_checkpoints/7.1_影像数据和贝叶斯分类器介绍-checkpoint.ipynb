{
 "cells": [
  {
   "cell_type": "markdown",
   "metadata": {},
   "source": [
    "# 影像数据和贝叶斯分类器介绍"
   ]
  },
  {
   "cell_type": "markdown",
   "metadata": {},
   "source": [
    "## 全色影像数据"
   ]
  },
  {
   "cell_type": "markdown",
   "metadata": {},
   "source": [
    "全色灰度单波段影像，像元总数为 1200 X 1200， 像元灰度值范围为 0至255。 "
   ]
  },
  {
   "cell_type": "markdown",
   "metadata": {},
   "source": [
    "<img src=\"DataImage\\全色原始数据.png\" width = \"500\" height = \"400\" alt=\"PanImage\" align=left />"
   ]
  },
  {
   "cell_type": "markdown",
   "metadata": {},
   "source": [
    "## 多光谱影像数据"
   ]
  },
  {
   "cell_type": "markdown",
   "metadata": {},
   "source": [
    "多光谱影像，4个波段：蓝、绿、红、近红波段。每个波段的像元总数为 1200 X 1200， 像元灰度值范围为  0至255。"
   ]
  },
  {
   "cell_type": "markdown",
   "metadata": {},
   "source": [
    "<img src=\"DataImage\\多波段原始数据.png\" width = \"500\" height = \"400\" alt=\"Multiband\" align=left />"
   ]
  },
  {
   "cell_type": "markdown",
   "metadata": {},
   "source": [
    "## 真实地物类别数据——GroundTruth\n"
   ]
  },
  {
   "cell_type": "markdown",
   "metadata": {},
   "source": [
    "GroudTruth为地表真实类别，数据格式为1200X1200的矩阵，矩阵中每个数据代表影像对应栅格处的类别编号，编号取值范围为1，2，3，4，5，6 <br />\n",
    "六个编号代表六种地物类型，编号1代表：水体（water），2代表草地（grass），3代表建筑物（building），4代表道路（roda），<br />\n",
    "5代表裸地（BareLand），6代表：背景（background）。"
   ]
  },
  {
   "cell_type": "markdown",
   "metadata": {},
   "source": [
    "<img src=\"DataImage\\GroundTruth.png\" width = \"600\" height = \"500\" alt=\"GroundTruth\" align=left />"
   ]
  },
  {
   "cell_type": "markdown",
   "metadata": {
    "ExecuteTime": {
     "end_time": "2017-09-08T00:34:14.795313Z",
     "start_time": "2017-09-08T00:34:14.787309Z"
    }
   },
   "source": [
    "## 朴素贝叶斯分类器（Naive Bayes）"
   ]
  },
  {
   "cell_type": "markdown",
   "metadata": {},
   "source": [
    "<img src=\"DataImage\\朴素贝叶斯.JPG\" width = \"900\" height = \"700\" alt=\"GroundTruth\" align=left />"
   ]
  },
  {
   "cell_type": "markdown",
   "metadata": {},
   "source": [
    "基于贝叶斯推理，当先验概率已知的时候，类后验概率与类的条件概率成正比例关系，因此可以用类的条件概率反映后验概率，从而进行类别的判断。<br />\n",
    "\n",
    "对于已有的全色单波段影像和多光谱四波段影像数据，结合GroundTruth数据，可以基于朴素贝叶器对影像进行分类，主要步骤如下：<br />\n",
    "&emsp;a.根据GroundTruth统计每种地物对应的像素灰度频率直方图，每个灰度值在每个地物类型内都有一个类条件概率，即每个灰度值对应六个类条件概率。<br />\n",
    "&emsp;b.比较每个灰度值处对应的六个类条件概率，找出最大的类条件概率所对应的类别编号，作为改灰度值处的类别号。<br />\n",
    "&emsp;c.根据灰度值所对应的类别号，返回到原始影像上，每个栅格像元上便有一个类别编号,得到分类效果图。<br />\n",
    "&emsp;d.将分类结果和GroundTruth进行比较，统计分类正确和错误的像元数，得出分类精度。\n"
   ]
  },
  {
   "cell_type": "markdown",
   "metadata": {},
   "source": [
    "下一小节，将利用朴素贝叶斯分类器的方法，对全色单波段影像和多光谱四波段影像进行分类，并比较分类后效果。"
   ]
  }
 ],
 "metadata": {
  "kernelspec": {
   "display_name": "Python 3",
   "language": "python",
   "name": "python3"
  },
  "language_info": {
   "codemirror_mode": {
    "name": "ipython",
    "version": 3
   },
   "file_extension": ".py",
   "mimetype": "text/x-python",
   "name": "python",
   "nbconvert_exporter": "python",
   "pygments_lexer": "ipython3",
   "version": "3.6.1"
  },
  "toc": {
   "colors": {
    "hover_highlight": "#DAA520",
    "navigate_num": "#000000",
    "navigate_text": "#333333",
    "running_highlight": "#FF0000",
    "selected_highlight": "#FFD700",
    "sidebar_border": "#EEEEEE",
    "wrapper_background": "#FFFFFF"
   },
   "moveMenuLeft": true,
   "nav_menu": {
    "height": "30px",
    "width": "252px"
   },
   "navigate_menu": true,
   "number_sections": true,
   "sideBar": true,
   "threshold": 4,
   "toc_cell": false,
   "toc_section_display": "block",
   "toc_window_display": true,
   "widenNotebook": false
  }
 },
 "nbformat": 4,
 "nbformat_minor": 2
}
