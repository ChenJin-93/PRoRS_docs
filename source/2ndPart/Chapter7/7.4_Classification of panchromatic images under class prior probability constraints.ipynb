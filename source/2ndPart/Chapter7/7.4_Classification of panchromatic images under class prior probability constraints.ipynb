{
 "cells": [
  {
   "cell_type": "markdown",
   "metadata": {},
   "source": [
    "# 类先验概率约束下的全色影像分类"
   ]
  },
  {
   "cell_type": "markdown",
   "metadata": {},
   "source": [
    "## 考虑类先验概率"
   ]
  },
  {
   "cell_type": "markdown",
   "metadata": {
    "collapsed": true
   },
   "source": [
    "7.2和7.3小节中的分类，都是假设每种地物类别的先验概率相同，因此类条件概率的大小关系就等同于后验概率的大小关系。\n",
    "\n",
    "&emsp;而在本节中，每种地物类别的先验概率不相同，对于GroundTruth数据，考虑每个像元的上、下、左、右、左上、右上、左下和右下，<br />\n",
    "这八个像元(相当于3 X 3的窗口内)，统计每个类别的频率。 每个像元就会对应六个类的先验概率，在用朴素贝叶斯进行分类决策时，<br />\n",
    "每个像元上的类条件概率乘以类的先验概率，即为类的后验概率，找出每个像元上的类后验概率最大值所对应的类别编号，进而实现了分类。"
   ]
  },
  {
   "cell_type": "markdown",
   "metadata": {},
   "source": [
    "## 全色影像和GroundTruth"
   ]
  },
  {
   "cell_type": "markdown",
   "metadata": {},
   "source": [
    "![](DataImage/PanDatasource.png)"
   ]
  },
  {
   "cell_type": "markdown",
   "metadata": {},
   "source": [
    "                                             原始全色影像 "
   ]
  },
  {
   "cell_type": "markdown",
   "metadata": {},
   "source": [
    "![](DataImage\\GroundTruth.png)"
   ]
  },
  {
   "cell_type": "markdown",
   "metadata": {
    "collapsed": true
   },
   "source": [
    "                                              地物类别图（GroundTruth）"
   ]
  },
  {
   "cell_type": "markdown",
   "metadata": {},
   "source": [
    "## 分类效果和精度"
   ]
  },
  {
   "cell_type": "markdown",
   "metadata": {},
   "source": [
    "将分类结果和GroundTruth进行比较，当类别相同时（表示分类正确），像元值赋为1，当类别不同时（表示分类错误），像元值赋为0，<br />\n",
    "得到分类精度效果图，即图中白色区域为分类正确，黑色区域表示分类错误。"
   ]
  },
  {
   "cell_type": "markdown",
   "metadata": {
    "collapsed": true
   },
   "source": [
    "![](The Thrid of Seven\\Eight neighborhood - prior -Pan classification effect.png)"
   ]
  },
  {
   "cell_type": "markdown",
   "metadata": {},
   "source": [
    "                                              考虑类的先验概率-分类效果图"
   ]
  },
  {
   "cell_type": "markdown",
   "metadata": {},
   "source": [
    "![](The Thrid of Seven\\Eight neighborhood - prior -Pan classification accuracy.png)"
   ]
  },
  {
   "cell_type": "markdown",
   "metadata": {},
   "source": [
    "                                                    分类精度——二值图"
   ]
  },
  {
   "cell_type": "markdown",
   "metadata": {},
   "source": [
    "从上图可知：分类效果较好，分类精度很高，基本上和GroundTruth相一致，经统计得到分类正确的像元数为1395441，占总像元数的比例为96.91%,<br />\n",
    "（即为分类精度），仅在地物特别破碎的地类边界上，区分效果较差。"
   ]
  }
 ],
 "metadata": {
  "kernelspec": {
   "display_name": "Python 3",
   "language": "python",
   "name": "python3"
  },
  "language_info": {
   "codemirror_mode": {
    "name": "ipython",
    "version": 3
   },
   "file_extension": ".py",
   "mimetype": "text/x-python",
   "name": "python",
   "nbconvert_exporter": "python",
   "pygments_lexer": "ipython3",
   "version": "3.6.1"
  },
  "toc": {
   "colors": {
    "hover_highlight": "#DAA520",
    "navigate_num": "#000000",
    "navigate_text": "#333333",
    "running_highlight": "#FF0000",
    "selected_highlight": "#FFD700",
    "sidebar_border": "#EEEEEE",
    "wrapper_background": "#FFFFFF"
   },
   "moveMenuLeft": true,
   "nav_menu": {
    "height": "66px",
    "width": "252px"
   },
   "navigate_menu": true,
   "number_sections": true,
   "sideBar": true,
   "threshold": 4,
   "toc_cell": false,
   "toc_section_display": "block",
   "toc_window_display": true,
   "widenNotebook": false
  }
 },
 "nbformat": 4,
 "nbformat_minor": 2
}
