{
 "cells": [
  {
   "cell_type": "markdown",
   "metadata": {
    "ExecuteTime": {
     "end_time": "2017-09-07T22:38:38.820584Z",
     "start_time": "2017-09-07T22:38:38.813574Z"
    }
   },
   "source": [
    "# 示例数据集\n",
    "\n",
    "    示例数据集以Jupyter Notebook为基本工具\n",
    "    每个特征的取值范围为[0,255]，橙色表示+1类样本；蓝色表示-1类样本；"
   ]
  },
  {
   "cell_type": "markdown",
   "metadata": {},
   "source": [
    "## 数据集一：\n",
    "from sklearn import datasets<br>\n",
    "X,Y=datasets.make_blobs(n_samples=n, centers=2, n_features=2, cluster_std=2, random_state=1)<br>\n",
    "cm_bright = ListedColormap(['Blue', 'Orange'])<br>\n",
    "plt.scatter(X[:,0], X[:,1], s=1, c=Y, cmap=cm_bright)<br>\n",
    "<img src=\"Picture\\figure_1-1.png\" width = \"300\" height = \"200\" alt=\"figure_1-1\" align=left>"
   ]
  },
  {
   "cell_type": "markdown",
   "metadata": {
    "ExecuteTime": {
     "end_time": "2017-09-07T22:52:10.487734Z",
     "start_time": "2017-09-07T22:52:10.463717Z"
    }
   },
   "source": [
    "## 数据集二：\n",
    "x= np.random.rand(n, 2); X=255*x<br>\n",
    "&emsp;Y=[]<br> \n",
    "&emsp;for i in range(0, n): <br>\n",
    "&emsp;&emsp;if (X[:,0][i]<=128 and X[:,1][i]<=128) or (X[:,0][i]>128 and X[:,1][i]>128):<br>\n",
    "&emsp;&emsp;&emsp;Y.append(-1)<br> \n",
    "&emsp;&emsp;else:<br>\n",
    "&emsp;&emsp;&emsp;Y.append(1)<br>\n",
    "<img src=\"Picture\\figure_1-2.png\" width = \"300\" height = \"200\" alt=\"figure_1-2\" align=left>"
   ]
  },
  {
   "cell_type": "markdown",
   "metadata": {},
   "source": [
    "## 数据集三：\n",
    "x,y= datasets.make_circles(n_samples=n, factor=0.05, noise=.2)<br>\n",
    "<img src=\"Picture\\figure_1-3.png\" width = \"300\" height = \"200\" alt=\"figure_1-3\" align=left>"
   ]
  },
  {
   "cell_type": "markdown",
   "metadata": {},
   "source": [
    "## 数据集四：\n",
    "t = 1 * np.pi * (0 + 4 * np.random.rand(1, n))<br>\n",
    "x0 = -t * np.cos(t); x2 = t * np.cos(t); x=np.concatenate((x0, x2), axis=1);<br>\n",
    "y0 = -t * np.sin(t); y2 = t * np.sin(t); y=np.concatenate((y0, y2), axis=1);<br>\n",
    "X = np.concatenate((x, y));<br>\n",
    "X += .3 * np.random.randn(2, 2*n);X = X.T;<br>\n",
    "X=255*MaxMinNormalization(X);<br>\n",
    "cs1=-1*np.ones(n); cs2=np.zeros(n); <br>\n",
    "Y=np.concatenate((cs1, cs2));<br>\n",
    "<img src=\"Picture\\figure_1-4.png\" width = \"300\" height = \"200\" alt=\"figure_1-4\" align=left>"
   ]
  },
  {
   "cell_type": "code",
   "execution_count": null,
   "metadata": {
    "collapsed": true
   },
   "outputs": [],
   "source": []
  }
 ],
 "metadata": {
  "kernelspec": {
   "display_name": "Python 3",
   "language": "python",
   "name": "python3"
  },
  "language_info": {
   "codemirror_mode": {
    "name": "ipython",
    "version": 3
   },
   "file_extension": ".py",
   "mimetype": "text/x-python",
   "name": "python",
   "nbconvert_exporter": "python",
   "pygments_lexer": "ipython3",
   "version": "3.6.0"
  },
  "toc": {
   "colors": {
    "hover_highlight": "#DAA520",
    "navigate_num": "#000000",
    "navigate_text": "#333333",
    "running_highlight": "#FF0000",
    "selected_highlight": "#FFD700",
    "sidebar_border": "#EEEEEE",
    "wrapper_background": "#FFFFFF"
   },
   "moveMenuLeft": true,
   "nav_menu": {
    "height": "30px",
    "width": "252px"
   },
   "navigate_menu": true,
   "number_sections": true,
   "sideBar": true,
   "threshold": 4,
   "toc_cell": false,
   "toc_section_display": "block",
   "toc_window_display": false,
   "widenNotebook": false
  }
 },
 "nbformat": 4,
 "nbformat_minor": 2
}
