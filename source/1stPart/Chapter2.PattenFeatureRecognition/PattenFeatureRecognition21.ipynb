{
 "cells": [
  {
   "cell_type": "markdown",
   "metadata": {
    "ExecuteTime": {
     "end_time": "2017-09-07T22:38:38.820584Z",
     "start_time": "2017-09-07T22:38:38.813574Z"
    }
   },
   "source": [
    "# 2.1 算法描述\n",
    "\n",
    "## 2.1.1 数学描述\n",
    "\n",
    " 问题：给定一组有类别标记的训练样本集𝐷 = {x1,…, xN} 或 𝐷 = {(x1,c1) ,…, (xN,cN)}<br>\n",
    " \n",
    " 如何使用一个算法给独立同分布的新观测样本x 分配准确的类别？<br>\n",
    "\n",
    " 解法：学习一个最优分类器或其参数（损失函数𝐿 𝛼 𝑦 , 𝑐 、分类规则𝑧 = 𝛼 𝑦 和判别函数𝑦 = 𝑓(𝑥) ），以极小化类别分配的风险：<br>\n",
    " \n",
    "![](Picture/figure_2-0.png)\n",
    "\n",
    "## 2.1.2 贝叶斯决策论\n",
    "\n",
    " 贝叶斯决策论（Bayesian decision theory）是在概率框架下实施决策的基本方法。<br>\n",
    " \n",
    " 在分类问题情况中，在所有相关概率都已知的理想情形下，贝叶斯决策就是寻找一个判定准则𝛼∗以最小化总体风险。\n",
    " \n",
    "![](Picture/figure_2-01.png)\n",
    "\n",
    "## 2.1.3 分类过程\n",
    "\n",
    " 最近邻法分类： 两类样本最近距离  + min(距离) <br>\n",
    " \n",
    " 线性判别分析:  变换后的值      + 与阈值的大小关系 <br>\n",
    " \n",
    " 朴素贝叶斯  ： 后验概率       + max(概率) <br>\n"
   ]
  }
 ],
 "metadata": {
  "kernelspec": {
   "display_name": "Python 3",
   "language": "python",
   "name": "python3"
  },
  "language_info": {
   "codemirror_mode": {
    "name": "ipython",
    "version": 3
   },
   "file_extension": ".py",
   "mimetype": "text/x-python",
   "name": "python",
   "nbconvert_exporter": "python",
   "pygments_lexer": "ipython3",
   "version": "3.6.1"
  },
  "toc": {
   "base_numbering": 1,
   "nav_menu": {
    "height": "30px",
    "width": "252px"
   },
   "number_sections": true,
   "sideBar": true,
   "skip_h1_title": false,
   "title_cell": "Table of Contents",
   "title_sidebar": "Contents",
   "toc_cell": false,
   "toc_position": {},
   "toc_section_display": "block",
   "toc_window_display": false
  }
 },
 "nbformat": 4,
 "nbformat_minor": 2
}
