{
 "cells": [
  {
   "cell_type": "markdown",
   "metadata": {},
   "source": [
    "# 5.1 算法原理"
   ]
  },
  {
   "cell_type": "markdown",
   "metadata": {},
   "source": [
    "##  5.1.1 组合分类的特点\n",
    "![](Picture/511.png)"
   ]
  },
  {
   "cell_type": "markdown",
   "metadata": {},
   "source": [
    "## 5.1.2 Boosting\n",
    "![](Picture/512.png)\n",
    "\n",
    "![](Picture/556.png)\n",
    "\n",
    "![](Picture/513.png)\n",
    "\n",
    "![](Picture/514.png)"
   ]
  },
  {
   "cell_type": "markdown",
   "metadata": {},
   "source": [
    "## 5.1.3 Bagging\n",
    "![](Picture/515.png)\n",
    "\n",
    "![](Picture/516.png)"
   ]
  },
  {
   "cell_type": "markdown",
   "metadata": {},
   "source": [
    "## 5.1.4 Decision Tree\n",
    "![](Picture/517.png)\n",
    "\n",
    "![](Picture/518.png)"
   ]
  },
  {
   "cell_type": "markdown",
   "metadata": {},
   "source": [
    "### 5.1.4.1 分类树计算方法\n",
    "![](Picture/519.png)\n",
    "\n",
    "![](Picture/5110.png)\n",
    "\n",
    "![](Picture/5111.png)\n",
    "\n",
    "![](Picture/5112.png)\n",
    "\n",
    "![](Picture/5113.png)"
   ]
  },
  {
   "cell_type": "markdown",
   "metadata": {},
   "source": [
    "### 5.1.4.2 根据样本特征属性分类\n",
    "![](Picture/5114.png)\n",
    "\n",
    "![](Picture/5115.png)\n",
    "\n",
    "![](Picture/5116.png)\n",
    "\n",
    "![](Picture/5117.png)\n",
    "\n",
    "![](Picture/5118.png)\n",
    "\n",
    "![](Picture/5119.png)\n",
    "\n",
    "![](Picture/5120.png)"
   ]
  }
 ],
 "metadata": {
  "kernelspec": {
   "display_name": "Python 3",
   "language": "python",
   "name": "python3"
  },
  "language_info": {
   "codemirror_mode": {
    "name": "ipython",
    "version": 3
   },
   "file_extension": ".py",
   "mimetype": "text/x-python",
   "name": "python",
   "nbconvert_exporter": "python",
   "pygments_lexer": "ipython3",
   "version": "3.6.6"
  },
  "toc": {
   "base_numbering": 1,
   "nav_menu": {
    "height": "102px",
    "width": "252px"
   },
   "number_sections": true,
   "sideBar": true,
   "skip_h1_title": false,
   "title_cell": "Table of Contents",
   "title_sidebar": "Contents",
   "toc_cell": false,
   "toc_position": {},
   "toc_section_display": "block",
   "toc_window_display": true
  }
 },
 "nbformat": 4,
 "nbformat_minor": 2
}
