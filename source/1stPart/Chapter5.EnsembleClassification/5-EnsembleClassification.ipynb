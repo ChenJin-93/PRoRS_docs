{
 "cells": [
  {
   "cell_type": "markdown",
   "metadata": {},
   "source": [
    "# 5.1 算法原理"
   ]
  },
  {
   "cell_type": "markdown",
   "metadata": {},
   "source": [
    "##  5.1.1 组合分类的特点\n",
    "![](Picture/P511.png)"
   ]
  },
  {
   "cell_type": "markdown",
   "metadata": {},
   "source": [
    "## 5.1.2 Boosting\n",
    "![](Picture/P512.png)\n",
    "![](Picture/P556.png)\n",
    "![](Picture/P513.png)\n",
    "![](Picture/P514.png)"
   ]
  },
  {
   "cell_type": "markdown",
   "metadata": {},
   "source": [
    "## 5.1.3 Bagging\n",
    "![](Picture/P515.png)\n",
    "![](Picture/P516.png)"
   ]
  },
  {
   "cell_type": "markdown",
   "metadata": {},
   "source": [
    "## 5.1.4 Decision Tree\n",
    "![](Picture/P517.png)\n",
    "![](Picture/P518.png)"
   ]
  },
  {
   "cell_type": "markdown",
   "metadata": {},
   "source": [
    "### 5.1.4.1 分类树计算方法\n",
    "![](Picture/P519.png)\n",
    "![](Picture/P5110.png)\n",
    "![](Picture/P5111.png)\n",
    "![](Picture/P5112.png)\n",
    "![](Picture/P5113.png)"
   ]
  },
  {
   "cell_type": "markdown",
   "metadata": {},
   "source": [
    "### 5.1.4.2 根据样本特征属性分类\n",
    "![](Picture/P5114.png)\n",
    "![](Picture/P5115.png)\n",
    "![](Picture/P5116.png)\n",
    "![](Picture/P5117.png)\n",
    "![](Picture/P5118.png)\n",
    "![](Picture/P5119.png)\n",
    "![](Picture/P5120.png)"
   ]
  }
 ],
 "metadata": {
  "kernelspec": {
   "display_name": "Python 3",
   "language": "python",
   "name": "python3"
  },
  "language_info": {
   "codemirror_mode": {
    "name": "ipython",
    "version": 3
   },
   "file_extension": ".py",
   "mimetype": "text/x-python",
   "name": "python",
   "nbconvert_exporter": "python",
   "pygments_lexer": "ipython3",
   "version": "3.6.6"
  },
  "toc": {
   "base_numbering": 1,
   "nav_menu": {
    "height": "102px",
    "width": "252px"
   },
   "number_sections": true,
   "sideBar": true,
   "skip_h1_title": false,
   "title_cell": "Table of Contents",
   "title_sidebar": "Contents",
   "toc_cell": false,
   "toc_position": {},
   "toc_section_display": "block",
   "toc_window_display": true
  }
 },
 "nbformat": 4,
 "nbformat_minor": 2
}
