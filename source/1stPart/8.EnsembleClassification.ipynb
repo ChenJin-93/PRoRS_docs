{
 "cells": [
  {
   "cell_type": "markdown",
   "metadata": {},
   "source": [
    "# 集成分类\n",
    "\n",
    "## 基分类器\n",
    "\n",
    "    from sklearn.ensemble import AdaBoostClassifier\n",
    "    clf=AdaBoostClassifier(base_estimator=DecisionTreeClassifier(criterion='gini',max_depth=3), n_estimators=5,learning_rate=1.0,algorithm='SAMME')\n",
    "\n",
    "    from sklearn.ensemble import RandomForestClassifier\n",
    "    clf=RandomForestClassifier(n_estimators=10)\n",
    "\n",
    "    将相互之间具有独立决策能力的分类器联合起来的方式就叫作集成分类器。  \n",
    "    事实证明通常情况下集成分类器的预测能力要比单个分类器的预测能力好得多。\n",
    "    \n",
    "<img src=\"Picture\\figure_8-1.png\" width = \"600\" height = \"100\" align=center>"
   ]
  },
  {
   "cell_type": "markdown",
   "metadata": {},
   "source": [
    "## 不同分类器下分类结果\n",
    "\n",
    "<img src=\"Picture\\figure_8-2.png\" width = \"700\" height = \"100\" align=left>\n"
   ]
  },
  {
   "cell_type": "markdown",
   "metadata": {},
   "source": [
    "## 随机森林分类过程\n",
    "\n",
    "    1.随机方式建立一个森林，森林里面有很多的决策树组成，每一棵决策树之间没有关\n",
    "    2.联。当有一个新的输入样本进入的时候，就让森林中的每一棵决策树分别进行分类。\n",
    "    3.判断样本应该属于哪一类，哪一类被选择最多，就预测这个样本为那一类。\n",
    "    \n",
    "    那随机森林具体如何构建？两个方面：数据的随机性选取，以及待选特征的随机选取。\n",
    "    设有N个样本，每个样本有M个features，决策树们其实都是随机地接受n个样本（对行随机取样）的m个feature（对列进行随机取样），每棵决策树的m个feature相同。\n",
    "\n",
    "<img src=\"Picture\\figure_8-3.png\" width = \"800\" height = \"100\" align=center>"
   ]
  },
  {
   "cell_type": "markdown",
   "metadata": {},
   "source": [
    "## Adaboost分类过程\n",
    "\n",
    "    其算法根据每次训练集之中每个样本的分类是否正确，以及上次的总体分类的准确率，来确定每个样本的权值。将修改过权值的新数据集送给下层进行训练，最后将每次训练得到的分类器最后融合起来，作为最后的决策分类器。\n",
    "    \n",
    "    (1) 训练样本的概率分布相当下，训练弱分类器\n",
    "    (2) 计算弱分类器的错误率；\n",
    "    (3) 选取合适阈值，使得误差最小；\n",
    "    (4) 更新样本权重；\n",
    "\n",
    "    ABE =clf.estimators_\n",
    "    ABw =clf.estimator_weights_\n",
    "    Abr =clf.estimator_errors_\n",
    "\n",
    "<img src=\"Picture\\figure_8-4.png\" width = \"800\" height = \"100\" align=left>"
   ]
  },
  {
   "cell_type": "code",
   "execution_count": null,
   "metadata": {
    "collapsed": true
   },
   "outputs": [],
   "source": []
  }
 ],
 "metadata": {
  "kernelspec": {
   "display_name": "Python 3",
   "language": "python",
   "name": "python3"
  },
  "language_info": {
   "codemirror_mode": {
    "name": "ipython",
    "version": 3
   },
   "file_extension": ".py",
   "mimetype": "text/x-python",
   "name": "python",
   "nbconvert_exporter": "python",
   "pygments_lexer": "ipython3",
   "version": "3.6.0"
  },
  "toc": {
   "colors": {
    "hover_highlight": "#DAA520",
    "navigate_num": "#000000",
    "navigate_text": "#333333",
    "running_highlight": "#FF0000",
    "selected_highlight": "#FFD700",
    "sidebar_border": "#EEEEEE",
    "wrapper_background": "#FFFFFF"
   },
   "moveMenuLeft": true,
   "nav_menu": {
    "height": "102px",
    "width": "252px"
   },
   "navigate_menu": true,
   "number_sections": true,
   "sideBar": true,
   "threshold": 4,
   "toc_cell": false,
   "toc_section_display": "block",
   "toc_window_display": false,
   "widenNotebook": false
  }
 },
 "nbformat": 4,
 "nbformat_minor": 2
}
