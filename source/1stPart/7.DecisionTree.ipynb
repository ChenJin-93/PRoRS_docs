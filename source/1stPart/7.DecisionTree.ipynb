{
 "cells": [
  {
   "cell_type": "markdown",
   "metadata": {},
   "source": [
    "# 决策树\n",
    "\n",
    "##  DecisionTreeClassifier\n",
    "\n",
    "    from sklearn import tree\n",
    "    clf = tree.DecisionTreeClassifier(criterion=‘gini’,‘entropy’，max_depth=3)\n"
   ]
  },
  {
   "cell_type": "markdown",
   "metadata": {},
   "source": [
    "##  信息增益\n",
    "\n",
    "<img src=\"Picture\\figure_7-1.png\" width = \"300\" height = \"100\" align=left>\n",
    "<br>\n",
    "\n",
    "    信息增益越大，用该属性进行划分所获得“纯度越大”。\n",
    "    一般不直接使用信息增益，而是使用“增益率来选择最优划分属性”\n",
    "    先从划分属性中找出信息增益高于平均水平的属性；\n",
    "    再从中选择增益率最高的。\n"
   ]
  },
  {
   "cell_type": "markdown",
   "metadata": {},
   "source": [
    "##  基尼系数\n",
    "\n",
    "<img src=\"Picture\\figure_7-2.png\" width = \"300\" height = \"100\" align=left>\n",
    "\n",
    "    直观来说，Gini(D)反映了数据集D中随机抽取两个样本，器类别标记不一致的概率，因此基尼指数越小，则数据集纯度越高。\n",
    "    选择使得划分后基尼指数最小的属性作为最优划分属性。\n"
   ]
  },
  {
   "cell_type": "markdown",
   "metadata": {},
   "source": [
    "## 决策树分类过程\n",
    "\n",
    "<img src=\"Picture\\figure_1-2.png\" width = \"300\" height = \"100\" align=left>\n",
    "<img src=\"Picture\\figure_7-3.png\" width = \"400\" height = \"100\" align=right>\n"
   ]
  },
  {
   "cell_type": "markdown",
   "metadata": {
    "ExecuteTime": {
     "end_time": "2017-09-08T15:36:15.781359Z",
     "start_time": "2017-09-08T15:36:15.774353Z"
    },
    "collapsed": true
   },
   "source": [
    "<img src=\"Picture\\figure_7-4.png\" width = \"700\" height = \"100\" align=center>"
   ]
  },
  {
   "cell_type": "markdown",
   "metadata": {},
   "source": [
    "## 决策树分类立体展示\n",
    "\n",
    "<img src=\"Picture\\figure_7-5.png\" width = \"600\" height = \"100\" align=left>"
   ]
  },
  {
   "cell_type": "code",
   "execution_count": null,
   "metadata": {
    "collapsed": true
   },
   "outputs": [],
   "source": []
  }
 ],
 "metadata": {
  "kernelspec": {
   "display_name": "Python 3",
   "language": "python",
   "name": "python3"
  },
  "language_info": {
   "codemirror_mode": {
    "name": "ipython",
    "version": 3
   },
   "file_extension": ".py",
   "mimetype": "text/x-python",
   "name": "python",
   "nbconvert_exporter": "python",
   "pygments_lexer": "ipython3",
   "version": "3.6.0"
  },
  "toc": {
   "colors": {
    "hover_highlight": "#DAA520",
    "navigate_num": "#000000",
    "navigate_text": "#333333",
    "running_highlight": "#FF0000",
    "selected_highlight": "#FFD700",
    "sidebar_border": "#EEEEEE",
    "wrapper_background": "#FFFFFF"
   },
   "moveMenuLeft": true,
   "nav_menu": {
    "height": "102px",
    "width": "252px"
   },
   "navigate_menu": true,
   "number_sections": true,
   "sideBar": true,
   "threshold": 4,
   "toc_cell": false,
   "toc_section_display": "block",
   "toc_window_display": false,
   "widenNotebook": false
  }
 },
 "nbformat": 4,
 "nbformat_minor": 2
}
