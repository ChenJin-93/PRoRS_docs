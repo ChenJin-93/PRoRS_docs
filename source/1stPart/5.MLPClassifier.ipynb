{
 "cells": [
  {
   "cell_type": "markdown",
   "metadata": {},
   "source": [
    "# 多层感知器\n",
    "\n",
    "## 多层感知分类器（MLPClassifier）\n",
    "\n",
    "    MLPClassifier(hidden_layer_sizes=(3,2),activation=\"relu\", learning_rate_init=0.01,max_iter=200)\n",
    "\n",
    "<img src=\"Picture\\figure_5-1.png\" width = \"300\" height = \"200\" align=left> \n",
    "<img src=\"Picture\\figure_5-2.png\" width = \"300\" height = \"150\" align=center> \n",
    "\n",
    "                    w=clf.coefs_\n",
    "                    b=clf.intercepts_\n",
    "                    输入 ：Input =w*X+b             \n",
    "                    输出 ：Output= activation (Input)\n"
   ]
  },
  {
   "cell_type": "markdown",
   "metadata": {},
   "source": [
    "## 非线性变换的激活函数\n",
    "\n",
    "<img src=\"Picture\\figure_5-3.png\" width = \"500\" height = \"200\" align=left>"
   ]
  },
  {
   "cell_type": "markdown",
   "metadata": {},
   "source": [
    "## 不同数据集经过隐层线性变换的空间分布图\n",
    "\n",
    "<img src=\"Picture\\figure_5-4.png\" width = \"600\" height = \"200\" align=left>\n",
    "<img src=\"Picture\\figure_5-5.png\" width = \"600\" height = \"200\" align=left>\n",
    "<img src=\"Picture\\figure_5-6.png\" width = \"600\" height = \"200\" align=left>\n",
    "<img src=\"Picture\\figure_5-7.png\" width = \"600\" height = \"200\" align=left>"
   ]
  },
  {
   "cell_type": "markdown",
   "metadata": {},
   "source": [
    "## 不同非线性变换函数的空间分布图\n",
    "\n",
    "<img src=\"Picture\\figure_5-8.png\" width = \"600\" height = \"200\" align=left>"
   ]
  },
  {
   "cell_type": "markdown",
   "metadata": {},
   "source": [
    "## 不同网络结构条件下非线性变换函数的空间分布图\n",
    "\n",
    "<img src=\"Picture\\figure_5-9.png\" width = \"600\" height = \"200\" align=left>"
   ]
  },
  {
   "cell_type": "markdown",
   "metadata": {},
   "source": [
    "## A Neural Network Playground\n",
    "\n",
    "http://playground.tensorflow.org/#activation=tanh&batchSize=21&dataset=circle&regDataset=reg-plane&learningRate=0.3&regularizationRate=0&noise=10&networkShape=3,1&seed=0.17950&showTestData=false&discretize=false&percTrainData=40&x=true&y=true&xTimesY=false&xSquared=false&ySquared=false&cosX=false&sinX=false&cosY=false&sinY=false&collectStats=false&problem=classification&initZero=false&hideText=false"
   ]
  },
  {
   "cell_type": "code",
   "execution_count": null,
   "metadata": {
    "collapsed": true
   },
   "outputs": [],
   "source": []
  }
 ],
 "metadata": {
  "kernelspec": {
   "display_name": "Python 3",
   "language": "python",
   "name": "python3"
  },
  "language_info": {
   "codemirror_mode": {
    "name": "ipython",
    "version": 3
   },
   "file_extension": ".py",
   "mimetype": "text/x-python",
   "name": "python",
   "nbconvert_exporter": "python",
   "pygments_lexer": "ipython3",
   "version": "3.6.0"
  },
  "toc": {
   "colors": {
    "hover_highlight": "#DAA520",
    "navigate_num": "#000000",
    "navigate_text": "#333333",
    "running_highlight": "#FF0000",
    "selected_highlight": "#FFD700",
    "sidebar_border": "#EEEEEE",
    "wrapper_background": "#FFFFFF"
   },
   "moveMenuLeft": true,
   "nav_menu": {
    "height": "155px",
    "width": "252px"
   },
   "navigate_menu": true,
   "number_sections": true,
   "sideBar": true,
   "threshold": 4,
   "toc_cell": false,
   "toc_section_display": "block",
   "toc_window_display": false,
   "widenNotebook": false
  }
 },
 "nbformat": 4,
 "nbformat_minor": 2
}
