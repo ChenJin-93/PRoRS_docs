{
 "cells": [
  {
   "cell_type": "markdown",
   "metadata": {},
   "source": [
    "# 模式分类\n",
    "    \n",
    "    利用所有训练样本以缺省参数学习分类器参数\n",
    "    随机选取离散化特征空间中的每个点（256*256个点）进行分类\n",
    "\n",
    "## 离散化特征空间，当测试点数量增加，分类结果是否有差异？\n",
    "\n",
    "<img src=\"Picture\\figure_2-1.png\" width = \"600\" height = \"400\" alt=\"figure_2-1\" align=left>\n",
    "<br>\n",
    "\n",
    "    图中第一列为不同数据集，第二到第五列分别代表从测试占整个特征空间的比例（0.01、0.05、0.1、1）。 \n",
    "    当特征空间中用于测试的点数逐渐增加，可观察到在同种分类方法下（最邻近分类）的分类结果并无差异。"
   ]
  },
  {
   "cell_type": "markdown",
   "metadata": {},
   "source": [
    "## 同种分类器，对不同数据集进行两次分类的分类结果是否有差异？\n",
    "\n",
    "<img src=\"Picture\\figure_2-2.png\" width = \"360\" height = \"220\" alt=\"figure_2-2\" align=left>\n",
    "<br>\n",
    "\n",
    "    图中第一列为不同数据集，第二到第三列分别为第一次分类结果和第二次分类结果。\n",
    "    \n",
    "    从图中结果可看出同种分类器下，两次分类的结果也并无差异。"
   ]
  },
  {
   "cell_type": "markdown",
   "metadata": {},
   "source": [
    "## 不同分类器，对不同数据集进行分类的分类结果会有什么样的差异？\n",
    "\n",
    "<img src=\"Picture\\figure_2-3.png\" width = \"600\" height = \"400\" alt=\"figure_2-3\" align=left>\n",
    "<br>\n",
    "\n",
    "    图中第一列为不同数据集，第二到第五列分别为不同分类器（线性判别，高斯朴素贝叶斯，二次判别，最邻近方法）的分类结果.\n",
    "    从图中结果可看出不同分类器下，特征空间中的分类结果存在明显差异。"
   ]
  },
  {
   "cell_type": "markdown",
   "metadata": {},
   "source": [
    "## 为什么不同分类器，分类结果会有差异？\n",
    "      KNN：记住所有的训练样本，计算每个测试点到每个类别的所有训练点的距离，记录一个最近距离，对应的训练点类别，即是测试点的类别。\n",
    "\n",
    "      LDA：如果训练数据集的协方差矩阵一致，训练数据投影到一个维度上，得到决策边界，计算所有测试点到决策边界的距离，找出一个判断阈值，进而将所有测试点分类。\n",
    "\n",
    "      QDA：如果训练数据集的协方差矩阵不一致，得到的决策面是一个二次面。\n",
    "\n",
    "      GNB：根据训练集来估计类先验概率和每个特征的条件概率，然后利用训练出的模型，计算每个样本点的后验概率，求取最大后验概率，其对应的类别就是测试点的类别。\n"
   ]
  },
  {
   "cell_type": "markdown",
   "metadata": {},
   "source": [
    "## 分类器是什么？（映射函数？分类规则？分类边界？空间剖分？）\n",
    "    当分类器的类型、参数给定了之后，分类器就是对特征空间的剖分。\n",
    "    同一分类器，测试点数量增加、两次分类的结果都是相同的。\n"
   ]
  },
  {
   "cell_type": "code",
   "execution_count": null,
   "metadata": {
    "collapsed": true
   },
   "outputs": [],
   "source": []
  }
 ],
 "metadata": {
  "kernelspec": {
   "display_name": "Python 3",
   "language": "python",
   "name": "python3"
  },
  "language_info": {
   "codemirror_mode": {
    "name": "ipython",
    "version": 3
   },
   "file_extension": ".py",
   "mimetype": "text/x-python",
   "name": "python",
   "nbconvert_exporter": "python",
   "pygments_lexer": "ipython3",
   "version": "3.6.0"
  },
  "toc": {
   "colors": {
    "hover_highlight": "#DAA520",
    "navigate_num": "#000000",
    "navigate_text": "#333333",
    "running_highlight": "#FF0000",
    "selected_highlight": "#FFD700",
    "sidebar_border": "#EEEEEE",
    "wrapper_background": "#FFFFFF"
   },
   "moveMenuLeft": true,
   "nav_menu": {
    "height": "137px",
    "width": "252px"
   },
   "navigate_menu": true,
   "number_sections": true,
   "sideBar": true,
   "threshold": 4,
   "toc_cell": false,
   "toc_section_display": "block",
   "toc_window_display": false,
   "widenNotebook": false
  }
 },
 "nbformat": 4,
 "nbformat_minor": 2
}
