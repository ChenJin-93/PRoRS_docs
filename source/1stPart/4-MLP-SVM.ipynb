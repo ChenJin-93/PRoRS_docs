{
 "cells": [
  {
   "cell_type": "markdown",
   "metadata": {},
   "source": [
    "# 非线性分类：特征变换"
   ]
  },
  {
   "cell_type": "markdown",
   "metadata": {},
   "source": [
    "## 多层感知器\n",
    "\n",
    "### 多层感知分类器（MLPClassifier）\n",
    "```python\n",
    "    MLPClassifier(hidden_layer_sizes=(3,2),activation=\"relu\", learning_rate_init=0.01,max_iter=200)\n",
    "```\n",
    "![](Picture/figure_5-1.png)  \n",
    "![](Picture/figure_5-2.png)  \n",
    "\n",
    "    w=clf.coefs_\n",
    "    b=clf.intercepts_\n",
    "    输入 ：Input =w*X+b             \n",
    "    输出 ：Output= activation (Input)\n"
   ]
  },
  {
   "cell_type": "markdown",
   "metadata": {},
   "source": [
    "### 非线性变换的激活函数\n",
    "\n",
    "![](Picture/figure_5-3.png)"
   ]
  },
  {
   "cell_type": "markdown",
   "metadata": {},
   "source": [
    "### 不同数据集经过隐层线性变换的空间分布图\n",
    "\n",
    "![](Picture/figure_5-4.png)\n",
    "\n",
    "![](Picture/figure_5-5.png)\n",
    "\n",
    "![](Picture/figure_5-6.png)\n",
    "\n",
    "![](Picture/figure_5-7.png)\n"
   ]
  },
  {
   "cell_type": "markdown",
   "metadata": {},
   "source": [
    "### 不同非线性变换函数的空间分布图\n",
    "\n",
    "![](Picture/figure_5-8.png)"
   ]
  },
  {
   "cell_type": "markdown",
   "metadata": {},
   "source": [
    "### 不同网络结构条件下非线性变换函数的空间分布图\n",
    "\n",
    "![](Picture/figure_5-9.png)"
   ]
  },
  {
   "cell_type": "markdown",
   "metadata": {},
   "source": [
    "### A Neural Network Playground\n",
    "    http://playground.tensorflow.org/#activation=tanh&batchSize=21&dataset=circle&regDataset=reg-plane&learningRate=0.3&regularizationRate=0&noise=10&networkShape=3,1&seed=0.17950&showTestData=false&discretize=false&percTrainData=40&x=true&y=true&xTimesY=false&xSquared=false&ySquared=false&cosX=false&sinX=false&cosY=false&sinY=false&collectStats=false&problem=classification&initZero=false&hideText=false\n",
    "\n",
    "![](Picture/figure_5-10.png)"
   ]
  },
  {
   "cell_type": "markdown",
   "metadata": {
    "collapsed": true
   },
   "source": [
    "## 支持向量机\n",
    "\n",
    "### 引言\n",
    "\n",
    "![](Picture/figure_6-1.png)\n",
    "![](Picture/figure_6-2.png)\n",
    "![](Picture/figure_6-3.png)"
   ]
  },
  {
   "cell_type": "markdown",
   "metadata": {},
   "source": [
    "### 核函数\n",
    "\n",
    "    SVM的关键在于核函数。低维空间向量集通常难于划分，解决的方法是将它们映射到高维空间。但这个办法带来的困难就是计算复杂度的增加，而核函数正好巧妙地解决了这个问题。也就是说，只要选用适当的核函数，就可以得到高维空间的分类函数。\n",
    "    \n",
    "![](Picture/figure_6-4.png)\n",
    "\n",
    "    1.样本在特征空间内线性可分，特征空间的好坏对支持向量机的性能至关重要，\n",
    "    2.核函数隐式的定义了特征空间。\n",
    "    3.如果核函数选择不合适，意味着样本映射到不适合的特征空间，导致性能不佳。"
   ]
  },
  {
   "cell_type": "markdown",
   "metadata": {},
   "source": [
    "### SVC分类器\n",
    "```python\n",
    "    from sklearn import svm\n",
    "    clf=svm.SVC(C=1.0, kernel= 'linear', 'poly', 'rbf', 'sigmoid', 'precomputed')\n",
    "    \n",
    "    Penalty parameter C of the error term:C, float, optional (default=1.0) \n",
    "    Get support vectors：clf.support_vectors_\n",
    "```"
   ]
  },
  {
   "cell_type": "markdown",
   "metadata": {},
   "source": [
    "### 支持向量\n",
    "\n",
    "![](Picture/figure_6-5.png)"
   ]
  },
  {
   "cell_type": "markdown",
   "metadata": {},
   "source": [
    "### 核函数值\n",
    "\n",
    "![](Picture/figure_6-6.png)"
   ]
  },
  {
   "cell_type": "markdown",
   "metadata": {},
   "source": [
    "### 核函数判别\n",
    "\n",
    "![](Picture/figure_6-7.png)"
   ]
  },
  {
   "cell_type": "markdown",
   "metadata": {},
   "source": [
    "### 核函数作用\n",
    "\n",
    "    在低维线性不可分时，使用高斯核函数，映射到高维后就可分了\n",
    "![](Picture/figure_6-8.png)"
   ]
  },
  {
   "cell_type": "markdown",
   "metadata": {},
   "source": [
    "### SVM for Javascipt\n",
    "    http://cs.stanford.edu/~karpathy/svmjs/demo/\n",
    "![](Picture/figure_6-9.png)"
   ]
  },
  {
   "cell_type": "code",
   "execution_count": null,
   "metadata": {
    "collapsed": true
   },
   "outputs": [],
   "source": []
  }
 ],
 "metadata": {
  "kernelspec": {
   "display_name": "Python 3",
   "language": "python",
   "name": "python3"
  },
  "language_info": {
   "codemirror_mode": {
    "name": "ipython",
    "version": 3
   },
   "file_extension": ".py",
   "mimetype": "text/x-python",
   "name": "python",
   "nbconvert_exporter": "python",
   "pygments_lexer": "ipython3",
   "version": "3.6.0"
  },
  "toc": {
   "colors": {
    "hover_highlight": "#DAA520",
    "navigate_num": "#000000",
    "navigate_text": "#333333",
    "running_highlight": "#FF0000",
    "selected_highlight": "#FFD700",
    "sidebar_border": "#EEEEEE",
    "wrapper_background": "#FFFFFF"
   },
   "moveMenuLeft": true,
   "nav_menu": {
    "height": "155px",
    "width": "252px"
   },
   "navigate_menu": true,
   "number_sections": true,
   "sideBar": true,
   "threshold": 4,
   "toc_cell": false,
   "toc_section_display": "block",
   "toc_window_display": false,
   "widenNotebook": false
  }
 },
 "nbformat": 4,
 "nbformat_minor": 2
}
